{
 "cells": [
  {
   "cell_type": "markdown",
   "metadata": {},
   "source": [
    "# TVB Fish"
   ]
  },
  {
   "cell_type": "markdown",
   "metadata": {},
   "source": [
    "## Overview"
   ]
  },
  {
   "cell_type": "markdown",
   "metadata": {},
   "source": [
    "We are going to set up a TVB model using coarse-scale zebrafish connectivity data."
   ]
  },
  {
   "cell_type": "markdown",
   "metadata": {},
   "source": [
    "## Notebook Setup"
   ]
  },
  {
   "cell_type": "markdown",
   "metadata": {},
   "source": [
    "Define some variables"
   ]
  },
  {
   "cell_type": "code",
   "execution_count": 1,
   "metadata": {
    "run_control": {
     "state": "d"
    }
   },
   "outputs": [],
   "source": [
    "data_dir = '../data/tvb_fish'\n",
    "\n",
    "tvb_folder = '~/Code/libraries_of_mine/github'"
   ]
  },
  {
   "cell_type": "markdown",
   "metadata": {},
   "source": [
    "Importage"
   ]
  },
  {
   "cell_type": "code",
   "execution_count": 2,
   "metadata": {},
   "outputs": [],
   "source": [
    "import os,sys,glob,numpy as np,pandas as pd\n",
    "from copy import deepcopy\n",
    "\n",
    "%matplotlib inline\n",
    "from matplotlib import pyplot as plt\n",
    "import seaborn as sns\n",
    "\n",
    "sys.path += [tvb_folder + '/' + t for t in ['tvb-library', 'tvb-data']]\n",
    "from tvb.simulator.lab import *"
   ]
  },
  {
   "cell_type": "markdown",
   "metadata": {},
   "source": [
    "Ok, let's get cracking."
   ]
  },
  {
   "cell_type": "markdown",
   "metadata": {},
   "source": [
    "## Load the data"
   ]
  },
  {
   "cell_type": "code",
   "execution_count": 30,
   "metadata": {
    "run_control": {
     "state": "n"
    }
   },
   "outputs": [],
   "source": [
    "weights = np.loadtxt(data_dir + '/weights_orig.txt')"
   ]
  },
  {
   "cell_type": "code",
   "execution_count": 31,
   "metadata": {
    "run_control": {
     "state": "n"
    }
   },
   "outputs": [],
   "source": [
    "centres = np.loadtxt(data_dir + '/centres_orig.txt')"
   ]
  },
  {
   "cell_type": "code",
   "execution_count": 32,
   "metadata": {
    "run_control": {
     "state": "n"
    }
   },
   "outputs": [],
   "source": [
    "tract_lengths = np.loadtxt(data_dir + '/tract_lengths.txt')"
   ]
  },
  {
   "cell_type": "markdown",
   "metadata": {},
   "source": [
    "`centres_orig.txt` needs modifying; roi names need to be added as a first column\n"
   ]
  },
  {
   "cell_type": "code",
   "execution_count": 33,
   "metadata": {
    "run_control": {
     "state": "n"
    }
   },
   "outputs": [],
   "source": [
    "names = np.array(['roi%s' %(r+1) for r in range(centres.shape[0])])"
   ]
  },
  {
   "cell_type": "code",
   "execution_count": 34,
   "metadata": {
    "run_control": {
     "state": "n"
    }
   },
   "outputs": [],
   "source": [
    "df_nc = pd.DataFrame(centres, columns=['x', 'y', 'z']).astype(str)\n",
    "df_nc['names'] = names\n",
    "df_nc[['names', 'x', 'y', 'z']].to_csv(data_dir + '/centres.txt', \n",
    "                                       header=False, sep=' ', index=False)"
   ]
  },
  {
   "cell_type": "code",
   "execution_count": 35,
   "metadata": {
    "run_control": {
     "state": "n"
    }
   },
   "outputs": [
    {
     "data": {
      "text/html": [
       "<div>\n",
       "<style scoped>\n",
       "    .dataframe tbody tr th:only-of-type {\n",
       "        vertical-align: middle;\n",
       "    }\n",
       "\n",
       "    .dataframe tbody tr th {\n",
       "        vertical-align: top;\n",
       "    }\n",
       "\n",
       "    .dataframe thead th {\n",
       "        text-align: right;\n",
       "    }\n",
       "</style>\n",
       "<table border=\"1\" class=\"dataframe\">\n",
       "  <thead>\n",
       "    <tr style=\"text-align: right;\">\n",
       "      <th></th>\n",
       "      <th>names</th>\n",
       "      <th>x</th>\n",
       "      <th>y</th>\n",
       "      <th>z</th>\n",
       "    </tr>\n",
       "  </thead>\n",
       "  <tbody>\n",
       "    <tr>\n",
       "      <th>0</th>\n",
       "      <td>roi1</td>\n",
       "      <td>279.0</td>\n",
       "      <td>162.0</td>\n",
       "      <td>40.0</td>\n",
       "    </tr>\n",
       "    <tr>\n",
       "      <th>1</th>\n",
       "      <td>roi2</td>\n",
       "      <td>284.0</td>\n",
       "      <td>214.0</td>\n",
       "      <td>40.0</td>\n",
       "    </tr>\n",
       "    <tr>\n",
       "      <th>2</th>\n",
       "      <td>roi3</td>\n",
       "      <td>296.0</td>\n",
       "      <td>251.0</td>\n",
       "      <td>40.0</td>\n",
       "    </tr>\n",
       "    <tr>\n",
       "      <th>3</th>\n",
       "      <td>roi4</td>\n",
       "      <td>347.0</td>\n",
       "      <td>274.0</td>\n",
       "      <td>40.0</td>\n",
       "    </tr>\n",
       "    <tr>\n",
       "      <th>4</th>\n",
       "      <td>roi5</td>\n",
       "      <td>280.0</td>\n",
       "      <td>146.0</td>\n",
       "      <td>50.0</td>\n",
       "    </tr>\n",
       "  </tbody>\n",
       "</table>\n",
       "</div>"
      ],
      "text/plain": [
       "  names      x      y     z\n",
       "0  roi1  279.0  162.0  40.0\n",
       "1  roi2  284.0  214.0  40.0\n",
       "2  roi3  296.0  251.0  40.0\n",
       "3  roi4  347.0  274.0  40.0\n",
       "4  roi5  280.0  146.0  50.0"
      ]
     },
     "execution_count": 35,
     "metadata": {},
     "output_type": "execute_result"
    }
   ],
   "source": [
    "df_nc[['names', 'x', 'y', 'z']].head()"
   ]
  },
  {
   "cell_type": "code",
   "execution_count": 36,
   "metadata": {
    "run_control": {
     "state": "n"
    }
   },
   "outputs": [],
   "source": [
    "f = open(data_dir + '/centres.txt', 'w+')"
   ]
  },
  {
   "cell_type": "code",
   "execution_count": 37,
   "metadata": {
    "run_control": {
     "state": "n"
    }
   },
   "outputs": [],
   "source": [
    "for l in df_nc[['names', 'x', 'y', 'z']].values:\n",
    "  f.writelines(' '.join(l) + '\\n')\n",
    "f.close()"
   ]
  },
  {
   "cell_type": "code",
   "execution_count": 38,
   "metadata": {
    "run_control": {
     "state": "n"
    }
   },
   "outputs": [
    {
     "name": "stdout",
     "output_type": "stream",
     "text": [
      "roi1 279.0 162.0 40.0\r\n",
      "roi2 284.0 214.0 40.0\r\n",
      "roi3 296.0 251.0 40.0\r\n",
      "roi4 347.0 274.0 40.0\r\n",
      "roi5 280.0 146.0 50.0\r\n",
      "roi6 282.0 203.0 50.0\r\n",
      "roi7 295.0 247.0 50.0\r\n",
      "roi8 332.0 266.0 50.0\r\n",
      "roi9 375.0 283.0 50.0\r\n",
      "roi10 280.0 127.0 60.0\r\n",
      "roi11 281.0 182.0 60.0\r\n",
      "roi12 287.0 228.0 60.0\r\n",
      "roi13 317.0 256.0 60.0\r\n",
      "roi14 372.0 283.0 60.0\r\n",
      "roi15 283.0 125.0 70.0\r\n",
      "roi16 282.0 190.0 70.0\r\n",
      "roi17 290.0 234.0 70.0\r\n",
      "roi18 332.0 262.0 70.0\r\n",
      "roi19 391.0 286.0 70.0\r\n",
      "roi20 287.0 108.0 80.0\r\n",
      "roi21 283.0 168.0 80.0\r\n",
      "roi22 287.0 213.0 80.0\r\n",
      "roi23 310.0 242.0 80.0\r\n",
      "roi24 349.0 268.0 80.0\r\n",
      "roi25 406.0 288.0 80.0\r\n",
      "roi26 287.0 110.0 90.0\r\n",
      "roi27 282.0 174.0 90.0\r\n",
      "roi28 288.0 216.0 90.0\r\n",
      "roi29 317.0 241.0 90.0\r\n",
      "roi30 354.0 268.0 90.0\r\n",
      "roi31 411.0 288.0 90.0\r\n",
      "roi32 289.0 112.0 100.0\r\n",
      "roi33 286.0 174.0 100.0\r\n",
      "roi34 293.0 212.0 100.0\r\n",
      "roi35 322.0 234.0 100.0\r\n",
      "roi36 357.0 257.0 100.0\r\n",
      "roi37 414.0 292.0 100.0\r\n",
      "roi38 310.0 134.0 110.0\r\n",
      "roi39 314.0 193.0 110.0\r\n",
      "roi40 336.0 231.0 110.0\r\n",
      "roi41 372.0 264.0 110.0\r\n",
      "roi42 427.0 288.0 110.0\r\n",
      "roi43 320.0 141.0 120.0\r\n",
      "roi44 341.0 196.0 120.0\r\n",
      "roi45 366.0 234.0 120.0\r\n",
      "roi46 423.0 281.0 120.0\r\n",
      "roi47 327.0 159.0 130.0\r\n",
      "roi48 352.0 204.0 130.0\r\n",
      "roi49 379.0 243.0 130.0\r\n",
      "roi50 427.0 286.0 130.0\r\n",
      "roi51 330.0 166.0 140.0\r\n",
      "roi52 366.0 216.0 140.0\r\n",
      "roi53 393.0 257.0 140.0\r\n",
      "roi54 446.0 287.0 140.0\r\n",
      "roi55 343.0 171.0 150.0\r\n",
      "roi56 376.0 214.0 150.0\r\n",
      "roi57 408.0 251.0 150.0\r\n",
      "roi58 451.0 283.0 150.0\r\n",
      "roi59 370.0 193.0 160.0\r\n",
      "roi60 419.0 242.0 160.0\r\n",
      "roi61 462.0 276.0 160.0\r\n",
      "roi62 228.0 158.0 40.0\r\n",
      "roi63 226.0 217.0 40.0\r\n",
      "roi64 208.0 254.0 40.0\r\n",
      "roi65 158.0 276.0 40.0\r\n",
      "roi66 231.0 147.0 50.0\r\n",
      "roi67 228.0 200.0 50.0\r\n",
      "roi68 213.0 241.0 50.0\r\n",
      "roi69 180.0 265.0 50.0\r\n",
      "roi70 133.0 283.0 50.0\r\n",
      "roi71 228.0 120.0 60.0\r\n",
      "roi72 229.0 186.0 60.0\r\n",
      "roi73 219.0 231.0 60.0\r\n",
      "roi74 187.0 262.0 60.0\r\n",
      "roi75 129.0 288.0 60.0\r\n",
      "roi76 226.0 119.0 70.0\r\n",
      "roi77 224.0 192.0 70.0\r\n",
      "roi78 214.0 234.0 70.0\r\n",
      "roi79 175.0 261.0 70.0\r\n",
      "roi80 117.0 290.0 70.0\r\n",
      "roi81 223.0 106.0 80.0\r\n",
      "roi82 226.0 171.0 80.0\r\n",
      "roi83 220.0 216.0 80.0\r\n",
      "roi84 192.0 248.0 80.0\r\n",
      "roi85 155.0 272.0 80.0\r\n",
      "roi86 103.0 292.0 80.0\r\n",
      "roi87 221.0 108.0 90.0\r\n",
      "roi88 223.0 175.0 90.0\r\n",
      "roi89 216.0 220.0 90.0\r\n",
      "roi90 184.0 247.0 90.0\r\n",
      "roi91 148.0 274.0 90.0\r\n",
      "roi92 90.0 294.0 90.0\r\n",
      "roi93 219.0 115.0 100.0\r\n",
      "roi94 217.0 178.0 100.0\r\n",
      "roi95 207.0 222.0 100.0\r\n",
      "roi96 174.0 249.0 100.0\r\n",
      "roi97 137.0 273.0 100.0\r\n",
      "roi98 82.0 294.0 100.0\r\n",
      "roi99 199.0 124.0 110.0\r\n",
      "roi100 195.0 189.0 110.0\r\n",
      "roi101 163.0 234.0 110.0\r\n",
      "roi102 127.0 271.0 110.0\r\n",
      "roi103 70.0 291.0 110.0\r\n",
      "roi104 192.0 138.0 120.0\r\n",
      "roi105 176.0 199.0 120.0\r\n",
      "roi106 145.0 238.0 120.0\r\n",
      "roi107 78.0 283.0 120.0\r\n",
      "roi108 180.0 149.0 130.0\r\n",
      "roi109 156.0 196.0 130.0\r\n",
      "roi110 132.0 233.0 130.0\r\n",
      "roi111 74.0 280.0 130.0\r\n",
      "roi112 170.0 169.0 140.0\r\n",
      "roi113 140.0 212.0 140.0\r\n",
      "roi114 111.0 256.0 140.0\r\n",
      "roi115 62.0 286.0 140.0\r\n",
      "roi116 167.0 180.0 150.0\r\n",
      "roi117 130.0 207.0 150.0\r\n",
      "roi118 100.0 240.0 150.0\r\n",
      "roi119 56.0 283.0 150.0\r\n",
      "roi120 133.0 199.0 160.0\r\n",
      "roi121 91.0 238.0 160.0\r\n",
      "roi122 46.0 268.0 160.0\r\n",
      "roi123 336.0 330.0 40.0\r\n",
      "roi124 289.0 325.0 40.0\r\n",
      "roi125 343.0 330.0 50.0\r\n",
      "roi126 294.0 326.0 50.0\r\n",
      "roi127 356.0 333.0 60.0\r\n",
      "roi128 303.0 327.0 60.0\r\n",
      "roi129 373.0 333.0 70.0\r\n",
      "roi130 303.0 323.0 70.0\r\n",
      "roi131 382.0 335.0 80.0\r\n",
      "roi132 306.0 327.0 80.0\r\n",
      "roi133 402.0 337.0 90.0\r\n",
      "roi134 347.0 331.0 90.0\r\n",
      "roi135 292.0 333.0 90.0\r\n",
      "roi136 405.0 339.0 100.0\r\n",
      "roi137 351.0 331.0 100.0\r\n",
      "roi138 294.0 326.0 100.0\r\n",
      "roi139 407.0 338.0 110.0\r\n",
      "roi140 353.0 333.0 110.0\r\n",
      "roi141 300.0 333.0 110.0\r\n",
      "roi142 279.0 290.0 110.0\r\n",
      "roi143 405.0 339.0 120.0\r\n",
      "roi144 346.0 330.0 120.0\r\n",
      "roi145 289.0 321.0 120.0\r\n",
      "roi146 302.0 272.0 120.0\r\n",
      "roi147 405.0 338.0 130.0\r\n",
      "roi148 350.0 335.0 130.0\r\n",
      "roi149 294.0 330.0 130.0\r\n",
      "roi150 290.0 278.0 130.0\r\n",
      "roi151 406.0 336.0 140.0\r\n",
      "roi152 343.0 331.0 140.0\r\n",
      "roi153 287.0 325.0 140.0\r\n",
      "roi154 288.0 277.0 140.0\r\n",
      "roi155 407.0 335.0 150.0\r\n",
      "roi156 355.0 327.0 150.0\r\n",
      "roi157 305.0 331.0 150.0\r\n",
      "roi158 271.0 303.0 150.0\r\n",
      "roi159 403.0 333.0 160.0\r\n",
      "roi160 347.0 316.0 160.0\r\n",
      "roi161 304.0 315.0 160.0\r\n",
      "roi162 262.0 300.0 160.0\r\n",
      "roi163 170.0 336.0 40.0\r\n",
      "roi164 223.0 330.0 40.0\r\n",
      "roi165 165.0 337.0 50.0\r\n",
      "roi166 222.0 328.0 50.0\r\n",
      "roi167 158.0 335.0 60.0\r\n",
      "roi168 218.0 326.0 60.0\r\n",
      "roi169 135.0 337.0 70.0\r\n",
      "roi170 209.0 323.0 70.0\r\n",
      "roi171 142.0 333.0 80.0\r\n",
      "roi172 215.0 323.0 80.0\r\n",
      "roi173 115.0 338.0 90.0\r\n",
      "roi174 171.0 330.0 90.0\r\n",
      "roi175 220.0 325.0 90.0\r\n",
      "roi176 112.0 337.0 100.0\r\n",
      "roi177 171.0 328.0 100.0\r\n",
      "roi178 220.0 325.0 100.0\r\n",
      "roi179 100.0 340.0 110.0\r\n",
      "roi180 157.0 335.0 110.0\r\n",
      "roi181 208.0 328.0 110.0\r\n",
      "roi182 225.0 288.0 110.0\r\n",
      "roi183 101.0 339.0 120.0\r\n",
      "roi184 163.0 329.0 120.0\r\n",
      "roi185 215.0 322.0 120.0\r\n",
      "roi186 219.0 271.0 120.0\r\n",
      "roi187 97.0 340.0 130.0\r\n",
      "roi188 159.0 322.0 130.0\r\n",
      "roi189 211.0 323.0 130.0\r\n",
      "roi190 221.0 280.0 130.0\r\n",
      "roi191 105.0 336.0 140.0\r\n",
      "roi192 166.0 325.0 140.0\r\n",
      "roi193 217.0 330.0 140.0\r\n",
      "roi194 213.0 277.0 140.0\r\n",
      "roi195 106.0 335.0 150.0\r\n",
      "roi196 156.0 318.0 150.0\r\n",
      "roi197 200.0 312.0 150.0\r\n",
      "roi198 240.0 301.0 150.0\r\n",
      "roi199 97.0 339.0 160.0\r\n",
      "roi200 143.0 319.0 160.0\r\n",
      "roi201 185.0 309.0 160.0\r\n",
      "roi202 241.0 301.0 160.0\r\n",
      "roi203 284.0 30.0 90.0\r\n",
      "roi204 323.0 33.0 90.0\r\n",
      "roi205 287.0 27.0 100.0\r\n",
      "roi206 332.0 31.0 100.0\r\n",
      "roi207 298.0 32.0 110.0\r\n",
      "roi208 340.0 32.0 110.0\r\n",
      "roi209 304.0 25.0 120.0\r\n",
      "roi210 342.0 29.0 120.0\r\n",
      "roi211 220.0 31.0 90.0\r\n",
      "roi212 185.0 31.0 90.0\r\n",
      "roi213 222.0 29.0 100.0\r\n",
      "roi214 180.0 32.0 100.0\r\n",
      "roi215 214.0 30.0 110.0\r\n",
      "roi216 173.0 32.0 110.0\r\n",
      "roi217 207.0 27.0 120.0\r\n",
      "roi218 167.0 29.0 120.0\r\n",
      "roi219 283.0 93.0 130.0\r\n",
      "roi220 277.0 157.0 130.0\r\n",
      "roi221 272.0 209.0 130.0\r\n",
      "roi222 284.0 80.0 140.0\r\n",
      "roi223 275.0 143.0 140.0\r\n",
      "roi224 271.0 211.0 140.0\r\n",
      "roi225 287.0 84.0 150.0\r\n",
      "roi226 280.0 134.0 150.0\r\n",
      "roi227 275.0 188.0 150.0\r\n",
      "roi228 294.0 58.0 160.0\r\n",
      "roi229 288.0 112.0 160.0\r\n",
      "roi230 284.0 155.0 160.0\r\n",
      "roi231 270.0 203.0 160.0\r\n",
      "roi232 225.0 85.0 130.0\r\n",
      "roi233 231.0 157.0 130.0\r\n",
      "roi234 231.0 217.0 130.0\r\n",
      "roi235 221.0 81.0 140.0\r\n",
      "roi236 230.0 144.0 140.0\r\n",
      "roi237 233.0 210.0 140.0\r\n",
      "roi238 220.0 82.0 150.0\r\n",
      "roi239 226.0 130.0 150.0\r\n",
      "roi240 232.0 184.0 150.0\r\n",
      "roi241 210.0 58.0 160.0\r\n",
      "roi242 218.0 105.0 160.0\r\n",
      "roi243 223.0 142.0 160.0\r\n",
      "roi244 230.0 184.0 160.0\r\n"
     ]
    }
   ],
   "source": [
    "cat $data_dir/centres.txt"
   ]
  },
  {
   "cell_type": "markdown",
   "metadata": {},
   "source": [
    "Currently when using the GUI there is an (unnecessary) error check which prevents the use of negative weights. There is a hack to fix this; but for the moment also make a new weights matrix with all positive values.\n"
   ]
  },
  {
   "cell_type": "code",
   "execution_count": 40,
   "metadata": {
    "run_control": {
     "state": "n"
    }
   },
   "outputs": [],
   "source": [
    "weights_allpos = deepcopy(weights)"
   ]
  },
  {
   "cell_type": "code",
   "execution_count": 41,
   "metadata": {
    "run_control": {
     "state": "d"
    }
   },
   "outputs": [],
   "source": [
    "weights_allpos[weights_allpos==1] = 1"
   ]
  },
  {
   "cell_type": "code",
   "execution_count": 42,
   "metadata": {
    "run_control": {
     "state": "d"
    }
   },
   "outputs": [],
   "source": [
    "weights_allpos[weights_allpos==-1] = 2"
   ]
  },
  {
   "cell_type": "code",
   "execution_count": 43,
   "metadata": {
    "run_control": {
     "state": "d"
    }
   },
   "outputs": [],
   "source": [
    "np.savetxt(data_dir + '/weights_allpos.txt', weights_allpos)"
   ]
  },
  {
   "cell_type": "markdown",
   "metadata": {},
   "source": [
    "Make a zip folder"
   ]
  },
  {
   "cell_type": "code",
   "execution_count": 45,
   "metadata": {},
   "outputs": [],
   "source": [
    "os.chdir(data_dir)"
   ]
  },
  {
   "cell_type": "code",
   "execution_count": 46,
   "metadata": {
    "run_control": {
     "state": "n"
    }
   },
   "outputs": [
    {
     "name": "stdout",
     "output_type": "stream",
     "text": [
      "rm: cannot remove 'fish_connectivity': No such file or directory\r\n"
     ]
    }
   ],
   "source": [
    "!rm -r fish_connectivity\n",
    "\n",
    "!mkdir fish_connectivity"
   ]
  },
  {
   "cell_type": "code",
   "execution_count": 47,
   "metadata": {
    "run_control": {
     "state": "n"
    }
   },
   "outputs": [],
   "source": [
    "cp weights.txt fish_connectivity/"
   ]
  },
  {
   "cell_type": "code",
   "execution_count": 48,
   "metadata": {
    "run_control": {
     "state": "n"
    }
   },
   "outputs": [],
   "source": [
    "cp tract_lengths.txt fish_connectivity/"
   ]
  },
  {
   "cell_type": "code",
   "execution_count": 49,
   "metadata": {
    "run_control": {
     "state": "n"
    }
   },
   "outputs": [],
   "source": [
    "cp centres.txt fish_connectivity/"
   ]
  },
  {
   "cell_type": "code",
   "execution_count": 50,
   "metadata": {
    "run_control": {
     "state": "n"
    }
   },
   "outputs": [
    {
     "name": "stdout",
     "output_type": "stream",
     "text": [
      "rm: cannot remove 'fish_connectivity.zip': No such file or directory\r\n"
     ]
    }
   ],
   "source": [
    "!rm fish_connectivity.zip"
   ]
  },
  {
   "cell_type": "code",
   "execution_count": 51,
   "metadata": {
    "run_control": {
     "state": "d"
    }
   },
   "outputs": [
    {
     "name": "stdout",
     "output_type": "stream",
     "text": [
      "  adding: fish_connectivity/ (stored 0%)\n",
      "  adding: fish_connectivity/centres.txt (deflated 72%)\n",
      "  adding: fish_connectivity/tract_lengths.txt (deflated 61%)\n",
      "  adding: fish_connectivity/weights.txt (deflated 99%)\n"
     ]
    }
   ],
   "source": [
    "!zip -r fish_connectivity.zip fish_connectivity"
   ]
  },
  {
   "cell_type": "markdown",
   "metadata": {},
   "source": [
    "Repeat for the all positive weights matrix"
   ]
  },
  {
   "cell_type": "code",
   "execution_count": 52,
   "metadata": {
    "run_control": {
     "state": "n"
    }
   },
   "outputs": [
    {
     "name": "stdout",
     "output_type": "stream",
     "text": [
      "rm: cannot remove 'fish_connectivity_allpos': No such file or directory\r\n"
     ]
    }
   ],
   "source": [
    "!rm -r fish_connectivity_allpos"
   ]
  },
  {
   "cell_type": "code",
   "execution_count": 53,
   "metadata": {
    "run_control": {
     "state": "n"
    }
   },
   "outputs": [],
   "source": [
    "mkdir fish_connectivity_allpos"
   ]
  },
  {
   "cell_type": "code",
   "execution_count": 54,
   "metadata": {
    "run_control": {
     "state": "n"
    }
   },
   "outputs": [],
   "source": [
    "cp weights_allpos.txt fish_connectivity_allpos/weights.txt"
   ]
  },
  {
   "cell_type": "code",
   "execution_count": 55,
   "metadata": {
    "run_control": {
     "state": "n"
    }
   },
   "outputs": [],
   "source": [
    "cp tract_lengths.txt fish_connectivity_allpos/"
   ]
  },
  {
   "cell_type": "code",
   "execution_count": 56,
   "metadata": {
    "run_control": {
     "state": "n"
    }
   },
   "outputs": [],
   "source": [
    "cp centres.txt fish_connectivity_allpos/"
   ]
  },
  {
   "cell_type": "code",
   "execution_count": 57,
   "metadata": {
    "run_control": {
     "state": "n"
    }
   },
   "outputs": [
    {
     "name": "stdout",
     "output_type": "stream",
     "text": [
      "rm: cannot remove 'fish_connectivity_allpos.zip': No such file or directory\r\n"
     ]
    }
   ],
   "source": [
    "!rm fish_connectivity_allpos.zip"
   ]
  },
  {
   "cell_type": "code",
   "execution_count": 58,
   "metadata": {
    "run_control": {
     "state": "n"
    }
   },
   "outputs": [
    {
     "name": "stdout",
     "output_type": "stream",
     "text": [
      "  adding: fish_connectivity_allpos/ (stored 0%)\n",
      "  adding: fish_connectivity_allpos/centres.txt (deflated 72%)\n",
      "  adding: fish_connectivity_allpos/tract_lengths.txt (deflated 61%)\n",
      "  adding: fish_connectivity_allpos/weights.txt (deflated 100%)\n"
     ]
    }
   ],
   "source": [
    "!zip -r fish_connectivity_allpos.zip fish_connectivity_allpos"
   ]
  },
  {
   "cell_type": "markdown",
   "metadata": {},
   "source": [
    "## Import to TVB"
   ]
  },
  {
   "cell_type": "code",
   "execution_count": 60,
   "metadata": {},
   "outputs": [
    {
     "name": "stdout",
     "output_type": "stream",
     "text": [
      "WARNING  File 'average_orientations' not found in ZIP.\n",
      "WARNING  File 'cortical' not found in ZIP.\n",
      "WARNING  File 'hemispheres' not found in ZIP.\n",
      "WARNING  File 'areas' not found in ZIP.\n"
     ]
    }
   ],
   "source": [
    "conn = connectivity.Connectivity.from_file(os.path.abspath('fish_connectivity.zip'))"
   ]
  },
  {
   "cell_type": "code",
   "execution_count": 61,
   "metadata": {
    "run_control": {
     "state": "n"
    }
   },
   "outputs": [
    {
     "data": {
      "text/plain": [
       "<matplotlib.axes._subplots.AxesSubplot at 0x7f2350f9a080>"
      ]
     },
     "execution_count": 61,
     "metadata": {},
     "output_type": "execute_result"
    },
    {
     "data": {
      "image/png": "[encoded data removed]",
      "text/plain": [
       "<Figure size 432x288 with 2 Axes>"
      ]
     },
     "metadata": {
      "needs_background": "light"
     },
     "output_type": "display_data"
    }
   ],
   "source": [
    "sns.heatmap(conn.weights, linecolor=None)"
   ]
  },
  {
   "cell_type": "markdown",
   "metadata": {},
   "source": [
    "## Plot 2D"
   ]
  },
  {
   "cell_type": "code",
   "execution_count": 67,
   "metadata": {},
   "outputs": [],
   "source": [
    "df_centres = pd.DataFrame(conn.centres, columns=['x', 'y', 'z'])"
   ]
  },
  {
   "cell_type": "code",
   "execution_count": 68,
   "metadata": {},
   "outputs": [
    {
     "data": {
      "text/plain": [
       "<matplotlib.axes._subplots.AxesSubplot at 0x7f23426caf60>"
      ]
     },
     "execution_count": 68,
     "metadata": {},
     "output_type": "execute_result"
    },
    {
     "data": {
      "image/png": "[encoded data removed]",
      "text/plain": [
       "<Figure size 864x216 with 3 Axes>"
      ]
     },
     "metadata": {
      "needs_background": "light"
     },
     "output_type": "display_data"
    }
   ],
   "source": [
    "fig, ax = plt.subplots(ncols=3, figsize=(12,3))\n",
    "\n",
    "df_centres.plot(kind='scatter', x='x', y='y', ax=ax[0])\n",
    "df_centres.plot(kind='scatter', x='x', y='z', ax=ax[1])\n",
    "df_centres.plot(kind='scatter', x='y', y='z', ax=ax[2])"
   ]
  },
  {
   "cell_type": "markdown",
   "metadata": {},
   "source": [
    "## Plot 3D"
   ]
  },
  {
   "cell_type": "code",
   "execution_count": 62,
   "metadata": {
    "run_control": {
     "state": "n"
    }
   },
   "outputs": [
    {
     "data": {
      "image/png": "[encoded data removed]",
      "text/plain": [
       "<Figure size 432x288 with 1 Axes>"
      ]
     },
     "metadata": {
      "needs_background": "light"
     },
     "output_type": "display_data"
    }
   ],
   "source": [
    "fig, ax = plt.subplots()\n",
    "plot_3d_centres(conn.centres)#,axes=ax)"
   ]
  }
 ],
 "metadata": {
  "css": [
   ""
  ],
  "grifflab_labnotebook": {
   "post_title": "Building a TVB Zebrafish Connectivity"
  },
  "kernelspec": {
   "display_name": "Python 3",
   "language": "python",
   "name": "python3"
  },
  "language_info": {
   "codemirror_mode": {
    "name": "ipython",
    "version": 3
   },
   "file_extension": ".py",
   "mimetype": "text/x-python",
   "name": "python",
   "nbconvert_exporter": "python",
   "pygments_lexer": "ipython3",
   "version": "3.7.3"
  }
 },
 "nbformat": 4,
 "nbformat_minor": 1
}
