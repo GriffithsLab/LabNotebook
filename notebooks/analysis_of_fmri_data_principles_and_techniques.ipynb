{
 "cells": [
  {
   "cell_type": "markdown",
   "metadata": {
    "slideshow": {
     "slide_type": "slide"
    }
   },
   "source": [
    "# Analysis of fMRI data: Principles and techniques"
   ]
  },
  {
   "cell_type": "markdown",
   "metadata": {
    "slideshow": {
     "slide_type": "-"
    }
   },
   "source": [
    "***Dr. John D. Griffiths***\n",
    "\n",
    "Group Lead in Whole Brain Modelling  \n",
    "Krembil Centre for Neuroinformatics, CAMH  \n",
    "\n",
    "Assistant Professor, University of Toronto"
   ]
  },
  {
   "cell_type": "markdown",
   "metadata": {
    "slideshow": {
     "slide_type": "slide"
    }
   },
   "source": [
    "## Code and (some) data"
   ]
  },
  {
   "cell_type": "markdown",
   "metadata": {
    "slideshow": {
     "slide_type": "-"
    }
   },
   "source": [
    "<div align=\"center\"> https://github.com/JohnGriffiths/CAN2019_fmri_tutorial </div>\n",
    "\n",
    "<div align=\"center\"> <img src=\"https://github.com/JohnGriffiths/CAN2019_fmri_tutorial/raw/master/code/figs/img01.png\" alt=\"tutorial github repo\" width=\"700\" > </div>"
   ]
  },
  {
   "cell_type": "markdown",
   "metadata": {
    "slideshow": {
     "slide_type": "slide"
    }
   },
   "source": [
    "## Tools of the trade\n",
    "\n",
    "<div align=\"center\"> <img src=\"https://github.com/JohnGriffiths/CAN2019_fmri_tutorial/raw/master/code/figs/img02.png\" alt=\"Tools of the trade\" width=\"1000\" height=\"1200\"> </div>"
   ]
  },
  {
   "cell_type": "markdown",
   "metadata": {
    "slideshow": {
     "slide_type": "slide"
    }
   },
   "source": [
    "## MR Physics Primer\n",
    "\n",
    "<div align=\"center\"> <img src=\"https://github.com/JohnGriffiths/CAN2019_fmri_tutorial/raw/master/code/figs/img03.png\" alt=\"MR Physics Primer\" width=\"500\"> </div>"
   ]
  },
  {
   "cell_type": "markdown",
   "metadata": {
    "slideshow": {
     "slide_type": "slide"
    }
   },
   "source": [
    "## Imaging Brain Structure\n",
    "\n",
    "<div align=\"center\"> <img src=\"https://github.com/JohnGriffiths/CAN2019_fmri_tutorial/raw/master/code/figs/img04.png\" alt=\"MR Physics Primer\" width=\"600\"> </div>"
   ]
  },
  {
   "cell_type": "markdown",
   "metadata": {
    "slideshow": {
     "slide_type": "slide"
    }
   },
   "source": [
    "## Macroscopic Cortical Anatomy"
   ]
  },
  {
   "cell_type": "markdown",
   "metadata": {},
   "source": [
    "<div align=\"center\"> <img src=\"https://github.com/JohnGriffiths/CAN2019_fmri_tutorial/raw/master/code/figs/img05.png\" alt=\"MR Physics Primer\" width=\"700\"> </div>"
   ]
  },
  {
   "cell_type": "markdown",
   "metadata": {
    "slideshow": {
     "slide_type": "slide"
    }
   },
   "source": [
    "## Spherical topology of cerebral hemispheres"
   ]
  },
  {
   "cell_type": "markdown",
   "metadata": {
    "slideshow": {
     "slide_type": "-"
    }
   },
   "source": [
    "<div align=\"center\" > <img src=\"https://github.com/JohnGriffiths/CAN2019_fmri_tutorial/raw/master/code/figs/img06.png\" alt=\"Girl in a jacket\" width=\"900\"> </div>\n",
    "\n",
    "<div align=\"center\">(see also: http://gallantlab.org/brainviewer/sulcigyri/ )</div>"
   ]
  },
  {
   "cell_type": "markdown",
   "metadata": {
    "slideshow": {
     "slide_type": "slide"
    }
   },
   "source": [
    "## Parcellations"
   ]
  },
  {
   "cell_type": "markdown",
   "metadata": {
    "cell_style": "split"
   },
   "source": [
    "Can be thought of as neuroanatomically principled form of data downsampling\n",
    "\n",
    "Quite a few around…\n",
    "\n",
    "Bit of a wild west…\n",
    "\n",
    "Rapidly evolving field\n"
   ]
  },
  {
   "cell_type": "markdown",
   "metadata": {
    "cell_style": "split"
   },
   "source": [
    "<img src=\"https://github.com/JohnGriffiths/CAN2019_fmri_tutorial/raw/master/code/figs/img07.png\" alt=\"Girl in a jacket\" width=\"300\">"
   ]
  },
  {
   "cell_type": "markdown",
   "metadata": {},
   "source": [
    "<div align=\"center\" > <img src=\"https://github.com/JohnGriffiths/CAN2019_fmri_tutorial/raw/master/code/figs/img07.png\" alt=\"Girl in a jacket\" width=\"500\" height=\"400\"></div>"
   ]
  },
  {
   "cell_type": "markdown",
   "metadata": {
    "slideshow": {
     "slide_type": "slide"
    }
   },
   "source": [
    "## Origin of the BOLD signal"
   ]
  },
  {
   "cell_type": "markdown",
   "metadata": {},
   "source": [
    "\n",
    "\n",
    "Blood oxygenation-level-dependent (BOLD) signal:\n",
    "\n",
    "Neural activity -> increased oxygen consumption\n",
    "\t\t    -> increased blood flow\n",
    "  \t\t    -> change in magnetic susceptibility\n",
    "\n",
    "\n",
    "\n",
    "\n",
    "‘Balloon-Windksessel \n",
    "Model’:\n",
    "        "
   ]
  },
  {
   "cell_type": "markdown",
   "metadata": {},
   "source": [
    "<div align=\"center\" > <img src=\"https://github.com/JohnGriffiths/CAN2019_fmri_tutorial/raw/master/code/figs/img09.png\" alt=\"Girl in a jacket\" width=\"800\"></div>"
   ]
  },
  {
   "cell_type": "markdown",
   "metadata": {
    "slideshow": {
     "slide_type": "slide"
    }
   },
   "source": [
    "## Experimental & Statistical Paradigms  \n",
    "***‘Classical’ mass-univariate analysis***"
   ]
  },
  {
   "cell_type": "markdown",
   "metadata": {
    "slideshow": {
     "slide_type": "slide"
    }
   },
   "source": [
    "HRF-convolved boxcar regressor\n",
    "-> beta -statistic images for each contrast\n",
    "\n",
    "first-level mass-univariate analysis\n",
    "-> t/F statistic images for each subject\n",
    "\n",
    "Enter into second-level (group) analysis\n",
    "-> ‘activation maps’"
   ]
  },
  {
   "cell_type": "markdown",
   "metadata": {
    "cell_style": "split"
   },
   "source": [
    "<div align=\"center\" >  <img src=\"https://github.com/JohnGriffiths/CAN2019_fmri_tutorial/raw/master/code/figs/img10.png\" alt=\"Girl in a jacket\" width=\"500\" height=\"400\"></div>"
   ]
  },
  {
   "cell_type": "markdown",
   "metadata": {
    "slideshow": {
     "slide_type": "slide"
    }
   },
   "source": [
    "## Experimental & Statistical Paradigms  \n",
    "***Multi-voxel pattern analysis***"
   ]
  },
  {
   "cell_type": "markdown",
   "metadata": {},
   "source": [
    "\n",
    "HRF-convolved boxcar regressor\n",
    "-> beta + t/F -statistic images for each contrast, for each subject\n",
    "\n",
    "multivariate analysis on patches of voxels\n"
   ]
  },
  {
   "cell_type": "markdown",
   "metadata": {},
   "source": [
    "<div align=\"center\" >  <img src=\"https://github.com/JohnGriffiths/CAN2019_fmri_tutorial/raw/master/code/figs/img11.png\" alt=\"Girl in a jacket\" width=\"500\" height=\"400\"></div>"
   ]
  },
  {
   "cell_type": "markdown",
   "metadata": {
    "slideshow": {
     "slide_type": "slide"
    }
   },
   "source": [
    "## Experimental & Statistical Paradigms  \n",
    "***Resting State***\n"
   ]
  },
  {
   "cell_type": "markdown",
   "metadata": {},
   "source": [
    "What?\n",
    "An experimental paradigm (barely) for measuring brain activity at rest\n",
    "What the brain is doing at rest\n",
    "Specific, canonical patterns of coherent low-frequency fluctuations. At rest. \n",
    "       -> ‘RSNs’\n",
    "Why?\n",
    "Flexible, easy, practical…etc..\n",
    "Links to neurocognitive structures\n"
   ]
  },
  {
   "cell_type": "markdown",
   "metadata": {},
   "source": [
    "<div align=\"center\" >  <img src=\"https://github.com/JohnGriffiths/CAN2019_fmri_tutorial/raw/master/code/figs/img12.png\" alt=\"Girl in a jacket\" width=\"500\" height=\"400\"></div>"
   ]
  },
  {
   "cell_type": "markdown",
   "metadata": {
    "slideshow": {
     "slide_type": "slide"
    }
   },
   "source": [
    "## Connectivity & Networks\n"
   ]
  },
  {
   "cell_type": "markdown",
   "metadata": {
    "slideshow": {
     "slide_type": "slide"
    }
   },
   "source": [
    "## The three C’s\n"
   ]
  },
  {
   "cell_type": "markdown",
   "metadata": {},
   "source": [
    "<div align=\"center\" > <img src=\"https://github.com/JohnGriffiths/CAN2019_fmri_tutorial/raw/master/code/figs/img13.png\" alt=\"Girl in a jacket\" width=\"700\"></div>"
   ]
  },
  {
   "cell_type": "markdown",
   "metadata": {
    "slideshow": {
     "slide_type": "slide"
    }
   },
   "source": [
    "## Functional/Effective Connectivity "
   ]
  },
  {
   "cell_type": "markdown",
   "metadata": {},
   "source": [
    "Metrics of choice"
   ]
  },
  {
   "cell_type": "markdown",
   "metadata": {
    "cell_style": "split"
   },
   "source": [
    "***fMRI***  \n",
    "Pearson Correlation  \n",
    "Partial Correlation  \n",
    "Wavelet coherence  \n",
    "ICA  "
   ]
  },
  {
   "cell_type": "markdown",
   "metadata": {
    "cell_style": "split"
   },
   "source": [
    "***M/EEG***   \n",
    "Imaginary Coherence  \n",
    "Phase synchrony  \n",
    "Bi/Multivariate Time/Freq   domain Granger Causality  \n",
    "Band-limited power correlations  "
   ]
  },
  {
   "cell_type": "markdown",
   "metadata": {
    "slideshow": {
     "slide_type": "slide"
    }
   },
   "source": [
    "## Connectomics"
   ]
  },
  {
   "cell_type": "markdown",
   "metadata": {},
   "source": [
    "<div align=\"center\" > <img src=\"https://github.com/JohnGriffiths/CAN2019_fmri_tutorial/raw/master/code/figs/img14.png\" alt=\"Girl in a jacket\" width=\"600\"></div>"
   ]
  },
  {
   "cell_type": "markdown",
   "metadata": {
    "slideshow": {
     "slide_type": "slide"
    }
   },
   "source": [
    "## Modelling neuroimaging data with networks of neural masses"
   ]
  },
  {
   "cell_type": "markdown",
   "metadata": {},
   "source": [
    "<div align=\"center\" > <img src=\"https://github.com/JohnGriffiths/CAN2019_fmri_tutorial/raw/master/code/figs/img15.png\" alt=\"Girl in a jacket\" width=\"900\"></div>"
   ]
  },
  {
   "cell_type": "markdown",
   "metadata": {
    "slideshow": {
     "slide_type": "slide"
    }
   },
   "source": [
    "## Conclusions"
   ]
  },
  {
   "cell_type": "markdown",
   "metadata": {},
   "source": [
    "High-resolution structural MRI data used for spatial alignment and identification of where to sample from (e.g. grey matter ribbon)\n",
    "\n",
    "fMRI: \t= good spatial, poor temporal resolution\n",
    "M/EEG\t= variable spatial; excellent temporal resolution\n",
    "\n",
    "In practice, generally, we/you are likely to be working with parcellation / ROI time series \n",
    "-> changes spatial resolution\n",
    "\n",
    "Macro-connectomics approach: construct whole-brain networks from:\n",
    "\ta) synchronization/correlation of ROI time series\t   \n",
    "\t\t-> ‘functional connectome’\n",
    "\tb) strength of anatomical connections\n",
    "         -> ‘structural connectome’\n",
    "\n",
    "\n"
   ]
  },
  {
   "cell_type": "markdown",
   "metadata": {
    "slideshow": {
     "slide_type": "slide"
    }
   },
   "source": [
    "## Qs?"
   ]
  },
  {
   "cell_type": "markdown",
   "metadata": {},
   "source": [
    "<div align=\"center\" > <img src=\"https://github.com/JohnGriffiths/CAN2019_fmri_tutorial/raw/master/code/figs/img17.png\" alt=\"Girl in a jacket\" width=\"500\" height=\"400\"></div>"
   ]
  },
  {
   "cell_type": "markdown",
   "metadata": {
    "slideshow": {
     "slide_type": "slide"
    }
   },
   "source": [
    "## Open science in neuroimaging"
   ]
  },
  {
   "cell_type": "markdown",
   "metadata": {},
   "source": [
    "<div align=\"center\" > <img src=\"https://github.com/JohnGriffiths/CAN2019_fmri_tutorial/raw/master/code/figs/img18.png\" alt=\"Girl in a jacket\" width=\"650\"></div>"
   ]
  },
  {
   "cell_type": "markdown",
   "metadata": {
    "slideshow": {
     "slide_type": "slide"
    }
   },
   "source": [
    "## Open data repositories"
   ]
  },
  {
   "cell_type": "markdown",
   "metadata": {},
   "source": [
    "<div align=\"center\" > <img src=\"https://github.com/JohnGriffiths/CAN2019_fmri_tutorial/raw/master/code/figs/img19.png\" alt=\"Girl in a jacket\" width=\"650\"></div>"
   ]
  },
  {
   "cell_type": "markdown",
   "metadata": {
    "slideshow": {
     "slide_type": "slide"
    }
   },
   "source": [
    "## Analysis Software"
   ]
  },
  {
   "cell_type": "markdown",
   "metadata": {},
   "source": [
    "<div align=\"center\" > <img src=\"https://github.com/JohnGriffiths/CAN2019_fmri_tutorial/raw/master/code/figs/img20.png\" alt=\"Girl in a jacket\" width=\"650\"></div>"
   ]
  },
  {
   "cell_type": "markdown",
   "metadata": {
    "slideshow": {
     "slide_type": "slide"
    }
   },
   "source": [
    "## File Formats"
   ]
  },
  {
   "cell_type": "markdown",
   "metadata": {},
   "source": [
    "\n",
    "Many, many, many, many formats…\n",
    "( nifti, gifti, cifti, dicom, mgh, mgz, fs surface, fs label, .fif, .elp, .bdf, … ) \n",
    "\n",
    "Most common + easiest: nifti volumes\n",
    "\n",
    "However most likely you will be working with ROI time series &/or connectivity matrices\n",
    "\n"
   ]
  },
  {
   "cell_type": "markdown",
   "metadata": {
    "slideshow": {
     "slide_type": "slide"
    }
   },
   "source": [
    "## Practical Exercises"
   ]
  },
  {
   "cell_type": "markdown",
   "metadata": {
    "slideshow": {
     "slide_type": "slide"
    }
   },
   "source": [
    "## SPM Auditory Processing Tutorial"
   ]
  },
  {
   "cell_type": "markdown",
   "metadata": {},
   "source": [
    "<div align=\"center\" > <img src=\"https://github.com/JohnGriffiths/CAN2019_fmri_tutorial/raw/master/code/figs/img22.png\" alt=\"Girl in a jacket\" width=\"550\"></div>"
   ]
  },
  {
   "cell_type": "code",
   "execution_count": 72,
   "metadata": {
    "slideshow": {
     "slide_type": "subslide"
    }
   },
   "outputs": [
    {
     "name": "stdout",
     "output_type": "stream",
     "text": [
      " ___  ____  __  __                                            \n",
      "/ __)(  _ \\(  \\/  )                                           \n",
      "\\__ \\ )___/ )    (   Statistical Parametric Mapping           \n",
      "(___/(__)  (_/\\/\\_)  SPM12 - https://www.fil.ion.ucl.ac.uk/spm/\n",
      "\n",
      "\n",
      "SPM12: v7487                                       08:45:25 - 20/05/2019\n",
      "========================================================================\n",
      "Initialising SPM                        :                   ......"
     ]
    }
   ],
   "source": [
    "addpath('/c/Ubuntu_WSL/Code/libraries_of_others/github/spm12')\n",
    "addpath(genpath('/c/Ubuntu_WSL/Code/libraries_of_others/github/imatlab'))\n",
    "imatlab_export_fig('')  % Static png figures.\n",
    "\n",
    "spm fmri\n",
    "\n"
   ]
  },
  {
   "cell_type": "markdown",
   "metadata": {
    "slideshow": {
     "slide_type": "subslide"
    }
   },
   "source": [
    "Analysis steps:\n",
    "\n",
    "From [SPM manual](https://www.fil.ion.ucl.ac.uk/spm/doc/spm12_manual.pdf), Page 225\n",
    "\n",
    "\n",
    "Steps:\n",
    "\n",
    "1. Remove dummy scans  \n",
    "2. Realign: estimate and reslice\n",
    "3. Coregister: estimate  \n",
    "4. Segment   \n",
    "5. Normalize    \n",
    "6. Smooth  \n",
    "7. Model specification, review, & estimation \n",
    "8. Estimate  \n",
    "9. Inference \n",
    "10. Contrast manager\n",
    "11. Masking\n",
    "12. View: mip, sections, low-res surface, inflated surface\n",
    "\n",
    "\n",
    "\n",
    "\n",
    "\n"
   ]
  },
  {
   "cell_type": "markdown",
   "metadata": {
    "slideshow": {
     "slide_type": "slide"
    }
   },
   "source": [
    "## HCP Functional Connectivity Analysis"
   ]
  },
  {
   "cell_type": "markdown",
   "metadata": {},
   "source": [
    "<div align=\"center\" > <img src=\"https://github.com/JohnGriffiths/CAN2019_fmri_tutorial/raw/master/code/figs/img23.png\" alt=\"Girl in a jacket\" width=\"500\" height=\"400\"></div>"
   ]
  },
  {
   "cell_type": "markdown",
   "metadata": {
    "slideshow": {
     "slide_type": "subslide"
    }
   },
   "source": [
    "Define (relative) filepaths"
   ]
  },
  {
   "cell_type": "code",
   "execution_count": 55,
   "metadata": {},
   "outputs": [],
   "source": [
    "mot_file = '../data/hcp/tfMRI_MOTOR_LR.nii';\n",
    "rest_file = '../data/hcp/rfMRI_REST1_LR_hp2000_clean.nii';\n",
    "raparc_file = '../data/hcp/raparc+aseg.nii';\n",
    "rest_fc_file = '../data/hcp/rest_fc_dat.mat';\n",
    "mot_fc_file = '../data/hcp/mot_fc_dat.mat';\n",
    "\n",
    "spm_dir = 'spm12';\n",
    "bct_dir = 'bct';"
   ]
  },
  {
   "cell_type": "markdown",
   "metadata": {
    "slideshow": {
     "slide_type": "subslide"
    }
   },
   "source": [
    "Add toolbox folders"
   ]
  },
  {
   "cell_type": "code",
   "execution_count": 56,
   "metadata": {},
   "outputs": [],
   "source": [
    "addpath(spm_dir)\n",
    "addpath(genpath(bct_dir))"
   ]
  },
  {
   "cell_type": "code",
   "execution_count": 57,
   "metadata": {},
   "outputs": [],
   "source": [
    "addpath(genpath('/c/Ubuntu_WSL/Code/libraries_of_others/github/imatlab'))\n",
    "imatlab_export_fig('print-png')  % Static png figures."
   ]
  },
  {
   "cell_type": "markdown",
   "metadata": {
    "slideshow": {
     "slide_type": "subslide"
    }
   },
   "source": [
    "Say what to do"
   ]
  },
  {
   "cell_type": "code",
   "execution_count": 58,
   "metadata": {},
   "outputs": [],
   "source": [
    "compute_mot_fc = 0;\n",
    "compute_rest_fc = 0;\n",
    "\n",
    "plot_mot_data = 1;\n",
    "plot_rest_data = 1;"
   ]
  },
  {
   "cell_type": "markdown",
   "metadata": {
    "slideshow": {
     "slide_type": "subslide"
    }
   },
   "source": [
    "Load parcellation labels"
   ]
  },
  {
   "cell_type": "code",
   "execution_count": 59,
   "metadata": {},
   "outputs": [],
   "source": [
    "raparc_vol = spm_vol(raparc_file);\n",
    "[raparc_dat,raparc_xyz] = spm_read_vols(raparc_vol);"
   ]
  },
  {
   "cell_type": "markdown",
   "metadata": {
    "slideshow": {
     "slide_type": "subslide"
    }
   },
   "source": [
    "Get unique label values"
   ]
  },
  {
   "cell_type": "code",
   "execution_count": 61,
   "metadata": {},
   "outputs": [],
   "source": [
    "uns = unique(raparc_dat);\n",
    "uns = uns(45:end); % these are the parcels we are interested in"
   ]
  },
  {
   "cell_type": "markdown",
   "metadata": {
    "slideshow": {
     "slide_type": "subslide"
    }
   },
   "source": [
    "Compute parcel centre of masses"
   ]
  },
  {
   "cell_type": "code",
   "execution_count": 62,
   "metadata": {},
   "outputs": [],
   "source": [
    "for u = 1:length(uns)         \n",
    "  idx = find(raparc_dat==uns(u)); \n",
    "  com = mean(raparc_xyz(:,idx),2);\n",
    "  raparc_coms(:,u) = com;         \n",
    "end"
   ]
  },
  {
   "cell_type": "markdown",
   "metadata": {
    "slideshow": {
     "slide_type": "subslide"
    }
   },
   "source": [
    "Compute Motor task FC"
   ]
  },
  {
   "cell_type": "code",
   "execution_count": null,
   "metadata": {},
   "outputs": [],
   "source": [
    "if compute_mot_fc == 1;\n",
    "  mot_vol = spm_vol(mot_file);\n",
    "  [mot_dat,mot_xyz] = spm_read_vols(mot_vol);\n",
    "\n",
    "  clear meants_all;\n",
    "  for u = 1:length(uns) ;                               \n",
    "    voxinds = find(raparc_dat==uns(u));     \n",
    "    meants = zeros(1,size(mot_dat,4));\n",
    "    for v = 1:length(voxinds);\n",
    "      [vi,vj,vk]  = ind2sub(size(raparc_dat),voxinds(v)); \n",
    "       newdat = squeeze(mot_dat(vi,vj,vk, :))';\n",
    "       newdat(find(isnan(newdat))) = 0;\n",
    "       meants = meants+newdat;        \n",
    "    end\n",
    "    meants = meants / length(voxinds);\n",
    "    meants_all(u,:) = meants;\n",
    "  end\n",
    "\n",
    "  mot_meants_all = meants_all;\n",
    "\n",
    "  % Compute pearson correlation (FC)\n",
    "\n",
    "  mot_meants_corrs = corrcoef(mot_meants_all');\n",
    "\n",
    "  % Save to file\n",
    "\n",
    "  save(mot_fc_file, 'mot_meants_all', 'mot_meants_corrs');\n",
    "\n",
    "end"
   ]
  },
  {
   "cell_type": "markdown",
   "metadata": {
    "slideshow": {
     "slide_type": "subslide"
    }
   },
   "source": [
    "Compute rest FC"
   ]
  },
  {
   "cell_type": "code",
   "execution_count": 26,
   "metadata": {},
   "outputs": [],
   "source": [
    "if compute_rest_fc == 1;\n",
    "\n",
    "  rest_vol = spm_vol(rest_file);\n",
    "  [rest_dat,rest_xyz] = spm_read_vols(rest_vol);\n",
    "\n",
    "  clear meants_all;\n",
    "  for u = 1:length(uns) ;\n",
    "    voxinds = find(raparc_dat==uns(u));\n",
    "    meants = zeros(1,size(rest_dat,4));\n",
    "    for v = 1:length(voxinds);\n",
    "      [vi,vj,vk]  = ind2sub(size(raparc_dat),voxinds(v));\n",
    "       newdat = squeeze(rest_dat(vi,vj,vk, :))';\n",
    "       newdat(find(isnan(newdat))) = 0;\n",
    "       meants = meants+newdat;\n",
    "    end\n",
    "    meants = meants / length(voxinds);\n",
    "    meants_all(u,:) = meants;\n",
    "  end\n",
    "\n",
    "  rest_meants_all = meants_all;\n",
    "\n",
    "\n",
    "  % Compute pearson correlation (FC)\n",
    "\n",
    "  rest_meants_corrs = corrcoef(rest_meants_all');\n",
    "\n",
    "\n",
    "  % Save to file\n",
    "\n",
    "  %save(rest_fc_file, 'rest_meants_all', 'rest_meants_corrs');\n",
    "\n",
    "end"
   ]
  },
  {
   "cell_type": "markdown",
   "metadata": {
    "slideshow": {
     "slide_type": "subslide"
    }
   },
   "source": [
    "Plot rest data as image"
   ]
  },
  {
   "cell_type": "code",
   "execution_count": 63,
   "metadata": {},
   "outputs": [],
   "source": [
    "load(rest_fc_file);"
   ]
  },
  {
   "cell_type": "code",
   "execution_count": 64,
   "metadata": {},
   "outputs": [
    {
     "data": {
      "image/png": "[encoded data removed]"
     },
     "metadata": {},
     "output_type": "display_data"
    }
   ],
   "source": [
    "figure; \n",
    "imagesc(rest_meants_corrs);\n",
    "colormap jet\n",
    "caxis([-0.8,0.8])\n",
    "colorbar"
   ]
  },
  {
   "cell_type": "markdown",
   "metadata": {
    "slideshow": {
     "slide_type": "subslide"
    }
   },
   "source": [
    "compute modularity"
   ]
  },
  {
   "cell_type": "code",
   "execution_count": 65,
   "metadata": {},
   "outputs": [],
   "source": [
    "gamma = 1;\n",
    "[rest_Ci,rest_Q] = modularity_und(rest_meants_corrs,gamma);"
   ]
  },
  {
   "cell_type": "markdown",
   "metadata": {
    "slideshow": {
     "slide_type": "subslide"
    }
   },
   "source": [
    "plot as graph"
   ]
  },
  {
   "cell_type": "code",
   "execution_count": 67,
   "metadata": {},
   "outputs": [
    {
     "data": {
      "image/png": "[encoded data removed]"
     },
     "metadata": {},
     "output_type": "display_data"
    }
   ],
   "source": [
    "figure; \n",
    "mat = abs(rest_meants_corrs>0.7); % thresholded, binary, undirected graph\n",
    "jg_figure_graph_color(mat, raparc_coms',rest_Ci,1,1,1)   "
   ]
  },
  {
   "cell_type": "markdown",
   "metadata": {
    "slideshow": {
     "slide_type": "subslide"
    }
   },
   "source": [
    "Plot motor data as image"
   ]
  },
  {
   "cell_type": "code",
   "execution_count": 68,
   "metadata": {},
   "outputs": [],
   "source": [
    "load(mot_fc_file);"
   ]
  },
  {
   "cell_type": "code",
   "execution_count": 69,
   "metadata": {},
   "outputs": [
    {
     "data": {
      "image/png": "[encoded data removed]"
     },
     "metadata": {},
     "output_type": "display_data"
    }
   ],
   "source": [
    "% plot as image\n",
    "figure; \n",
    "imagesc(mot_meants_corrs);\n",
    "colormap jet\n",
    "caxis([-0.8,0.8])  \n",
    "colorbar"
   ]
  },
  {
   "cell_type": "markdown",
   "metadata": {
    "slideshow": {
     "slide_type": "subslide"
    }
   },
   "source": [
    "Compute modularity"
   ]
  },
  {
   "cell_type": "code",
   "execution_count": 70,
   "metadata": {},
   "outputs": [],
   "source": [
    "gamma = 1;\n",
    "[mot_Ci,mot_Q] = modularity_und(mot_meants_corrs,gamma);"
   ]
  },
  {
   "cell_type": "markdown",
   "metadata": {
    "slideshow": {
     "slide_type": "subslide"
    }
   },
   "source": [
    "Plot as graph"
   ]
  },
  {
   "cell_type": "code",
   "execution_count": 71,
   "metadata": {},
   "outputs": [
    {
     "data": {
      "image/png": "[encoded data removed]"
     },
     "metadata": {},
     "output_type": "display_data"
    }
   ],
   "source": [
    "figure; \n",
    "mat = abs(mot_meants_corrs>0.7); % thresholded, binary, undirected graph\n",
    "jg_figure_graph_color(mat, raparc_coms',mot_Ci,1,1,1)                       "
   ]
  },
  {
   "cell_type": "markdown",
   "metadata": {
    "slideshow": {
     "slide_type": "slide"
    }
   },
   "source": [
    "## That's a wrap :)"
   ]
  }
 ],
 "metadata": {
  "celltoolbar": "Slideshow",
  "kernelspec": {
   "display_name": "MATLAB",
   "language": "matlab",
   "name": "imatlab"
  },
  "language_info": {
   "codemirror_mode": "octave",
   "file_extension": ".m",
   "mimetype": "text/x-matlab",
   "name": "matlab",
   "nbconvert_exporter": "imatlab._exporter.MatlabExporter",
   "pygments_lexer": "matlab",
   "version": "9.6.0.1099231 (R2019a) Update 1"
  },
  "rise": {
   "autolaunch": true,
   "enable_chalkboard": true
  }
 },
 "nbformat": 4,
 "nbformat_minor": 2
}
