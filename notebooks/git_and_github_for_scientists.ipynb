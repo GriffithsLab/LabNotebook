{
 "cells": [
  {
   "cell_type": "markdown",
   "metadata": {
    "slideshow": {
     "slide_type": "slide"
    }
   },
   "source": [
    "## Git and Github For Scientists"
   ]
  },
  {
   "cell_type": "markdown",
   "metadata": {},
   "source": [
    "Dr. John D. Griffiths\n",
    "\n",
    "Group Lead in Whole Brain Modelling  \n",
    "Krembil Centre for Neuroinformatics  \n",
    "Centre for Addiction and Mental Health & University of Toronto"
   ]
  },
  {
   "cell_type": "code",
   "execution_count": null,
   "metadata": {},
   "outputs": [],
   "source": []
  },
  {
   "cell_type": "code",
   "execution_count": null,
   "metadata": {},
   "outputs": [],
   "source": []
  },
  {
   "cell_type": "code",
   "execution_count": null,
   "metadata": {},
   "outputs": [],
   "source": []
  },
  {
   "cell_type": "code",
   "execution_count": null,
   "metadata": {},
   "outputs": [],
   "source": []
  },
  {
   "cell_type": "code",
   "execution_count": null,
   "metadata": {},
   "outputs": [],
   "source": []
  },
  {
   "cell_type": "markdown",
   "metadata": {
    "slideshow": {
     "slide_type": "slide"
    }
   },
   "source": [
    "## Slides from  https://raw.githubusercontent.com/mbjoseph/git-intro/master/git.Rmd\n"
   ]
  },
  {
   "cell_type": "markdown",
   "metadata": {
    "slideshow": {
     "slide_type": "-"
    }
   },
   "source": [
    "title: \"Version control with git for scientists\"  \n",
    "subtitle: https://github.com/mbjoseph/git-intro    \n",
    "author: \"Max Joseph\"  \n",
    "date: \"July 27, 2016\"  \n"
   ]
  },
  {
   "cell_type": "markdown",
   "metadata": {
    "slideshow": {
     "slide_type": "slide"
    }
   },
   "source": [
    "## Discuss"
   ]
  },
  {
   "cell_type": "markdown",
   "metadata": {
    "slideshow": {
     "slide_type": "-"
    }
   },
   "source": [
    "What is your current version control system?\n",
    "\n",
    "1. How do you manage different file versions?  \n",
    "2. How do you work with collaborators on the same files?  \n",
    "3. How much would your science suffer if your workstation exploded right now? (scale from 1-10)"
   ]
  },
  {
   "cell_type": "markdown",
   "metadata": {
    "slideshow": {
     "slide_type": "slide"
    }
   },
   "source": [
    "## What is git"
   ]
  },
  {
   "cell_type": "markdown",
   "metadata": {
    "slideshow": {
     "slide_type": "-"
    }
   },
   "source": [
    "Version control system\n",
    "\n",
    "- manage different versions of files\n",
    "- collaborate with yourself\n",
    "- collaborate with other people"
   ]
  },
  {
   "cell_type": "markdown",
   "metadata": {
    "slideshow": {
     "slide_type": "slide"
    }
   },
   "source": [
    "## Why use git"
   ]
  },
  {
   "cell_type": "markdown",
   "metadata": {},
   "source": [
    "\"Always remember your first collaborator is your future self, and your past self doesn't answer emails\" \n",
    "\n",
    "- Christie Bahlai"
   ]
  },
  {
   "cell_type": "markdown",
   "metadata": {
    "slideshow": {
     "slide_type": "slide"
    }
   },
   "source": [
    "## What is git good for?"
   ]
  },
  {
   "cell_type": "markdown",
   "metadata": {},
   "source": [
    "- backup\n",
    "- reproducibility\n",
    "- collaboration\n",
    "- organization\n",
    "- transparency"
   ]
  },
  {
   "cell_type": "markdown",
   "metadata": {
    "slideshow": {
     "slide_type": "slide"
    }
   },
   "source": [
    "## What you get"
   ]
  },
  {
   "cell_type": "markdown",
   "metadata": {},
   "source": [
    "[Tour of a git repository](https://github.com/mbjoseph/trait_factors)"
   ]
  },
  {
   "cell_type": "markdown",
   "metadata": {
    "slideshow": {
     "slide_type": "slide"
    }
   },
   "source": [
    "## Overview"
   ]
  },
  {
   "cell_type": "markdown",
   "metadata": {},
   "source": [
    "1. Git on the command line\n",
    "2. Git in RStudio\n",
    "3. Github vs. GitLab vs. Bitbucket for remote mirroring"
   ]
  },
  {
   "cell_type": "markdown",
   "metadata": {
    "slideshow": {
     "slide_type": "slide"
    }
   },
   "source": [
    "## Command line git"
   ]
  },
  {
   "cell_type": "markdown",
   "metadata": {},
   "source": [
    "Make a directory with a file\n",
    "\n",
    "```\n",
    "mkdir test\n",
    "cd test\n",
    "nano sim.R\n",
    "```\n",
    "\n",
    "\n",
    "Then write a short simulation, e.g. \n",
    "\n",
    "```{r, eval=FALSE}\n",
    "x <- rnorm(10)\n",
    "save(x, file = \"x.RData\")\n",
    "```"
   ]
  },
  {
   "cell_type": "markdown",
   "metadata": {
    "slideshow": {
     "slide_type": "slide"
    }
   },
   "source": [
    "## Initializing a repository"
   ]
  },
  {
   "cell_type": "markdown",
   "metadata": {},
   "source": [
    "Prerequisites:\n",
    "\n",
    "- git installed (check with `which git`)\n",
    "- git configured (check with `git config --list`)\n",
    "\n",
    "```\n",
    "git config --global user.name \"Vlad Dracula\"\n",
    "git config --global user.email \"vlad@tran.sylvan.ia\"\n",
    "git config --global color.ui \"auto\"\n",
    "git config --global core.editor \"nano\"\n",
    "```"
   ]
  },
  {
   "cell_type": "markdown",
   "metadata": {
    "slideshow": {
     "slide_type": "slide"
    }
   },
   "source": [
    "## Initializing a repository"
   ]
  },
  {
   "cell_type": "markdown",
   "metadata": {},
   "source": [
    "```\n",
    "git init\n",
    "```\n",
    "\n",
    "Notice the `.git/` directory"
   ]
  },
  {
   "cell_type": "markdown",
   "metadata": {
    "slideshow": {
     "slide_type": "slide"
    }
   },
   "source": [
    "## Checking repository status"
   ]
  },
  {
   "cell_type": "markdown",
   "metadata": {},
   "source": [
    "``` \n",
    "git status\n",
    "```"
   ]
  },
  {
   "cell_type": "markdown",
   "metadata": {
    "slideshow": {
     "slide_type": "slide"
    }
   },
   "source": [
    "## Adding your file"
   ]
  },
  {
   "cell_type": "markdown",
   "metadata": {},
   "source": [
    "```\n",
    "git add your_filename.R\n",
    "```\n",
    "\n",
    "or, to add everything\n",
    "\n",
    "```\n",
    "git add --all\n",
    "```"
   ]
  },
  {
   "cell_type": "markdown",
   "metadata": {
    "slideshow": {
     "slide_type": "slide"
    }
   },
   "source": [
    "## Your changes are now staged"
   ]
  },
  {
   "cell_type": "markdown",
   "metadata": {},
   "source": [
    "![](fig/git.png)\n",
    "\n",
    "(Image from Software Carpentry)"
   ]
  },
  {
   "cell_type": "markdown",
   "metadata": {
    "slideshow": {
     "slide_type": "slide"
    }
   },
   "source": [
    "## Committing"
   ]
  },
  {
   "cell_type": "markdown",
   "metadata": {},
   "source": [
    "Changes aren't final until they're committed\n",
    "\n",
    "```\n",
    "git status\n",
    "```"
   ]
  },
  {
   "cell_type": "markdown",
   "metadata": {
    "slideshow": {
     "slide_type": "slide"
    }
   },
   "source": [
    "## Committing"
   ]
  },
  {
   "cell_type": "markdown",
   "metadata": {},
   "source": [
    "Once you're sure that you're changes are worth saving\n",
    "\n",
    "(THIS WILL GO ON YOUR PERMANENT RECORD)\n",
    "\n",
    "```\n",
    "git commit -m 'changed x, y, and z'\n",
    "```"
   ]
  },
  {
   "cell_type": "markdown",
   "metadata": {
    "slideshow": {
     "slide_type": "slide"
    }
   },
   "source": [
    "## Commit messages"
   ]
  },
  {
   "cell_type": "markdown",
   "metadata": {},
   "source": [
    "- Describe why and the what \"in a nutshell\"\n",
    "- Note to your future self (and to anyone else who you're collaborating with)\n",
    "\n",
    "![](http://imgs.xkcd.com/comics/git_commit.png)"
   ]
  },
  {
   "cell_type": "markdown",
   "metadata": {
    "slideshow": {
     "slide_type": "slide"
    }
   },
   "source": [
    "## What did we do?"
   ]
  },
  {
   "cell_type": "markdown",
   "metadata": {},
   "source": [
    "```\n",
    "git status\n",
    "git log\n",
    "```"
   ]
  },
  {
   "cell_type": "markdown",
   "metadata": {
    "slideshow": {
     "slide_type": "slide"
    }
   },
   "source": [
    "## Make another change"
   ]
  },
  {
   "cell_type": "markdown",
   "metadata": {},
   "source": [
    "1. Change file\n",
    "2. Add changes\n",
    "3. Commit changes\n",
    "4. View updated log"
   ]
  },
  {
   "cell_type": "markdown",
   "metadata": {
    "slideshow": {
     "slide_type": "slide"
    }
   },
   "source": [
    "## Now, do something really stupid"
   ]
  },
  {
   "cell_type": "markdown",
   "metadata": {},
   "source": [
    "\"Accidentally\" introduce some errors to your file"
   ]
  },
  {
   "cell_type": "markdown",
   "metadata": {
    "slideshow": {
     "slide_type": "slide"
    }
   },
   "source": [
    "## Woops"
   ]
  },
  {
   "cell_type": "markdown",
   "metadata": {},
   "source": [
    "Not that this ever happens...\n",
    "\n",
    "```\n",
    "git diff\n",
    "git checkout HEAD your_file.R\n",
    "```"
   ]
  },
  {
   "cell_type": "markdown",
   "metadata": {
    "slideshow": {
     "slide_type": "slide"
    }
   },
   "source": [
    "## What happened?"
   ]
  },
  {
   "cell_type": "markdown",
   "metadata": {},
   "source": [
    "![](fig/git.png)  \n",
    "\n",
    "(Image from Software Carpentry)"
   ]
  },
  {
   "cell_type": "markdown",
   "metadata": {
    "slideshow": {
     "slide_type": "slide"
    }
   },
   "source": [
    "## Wait, what does HEAD refer to?"
   ]
  },
  {
   "cell_type": "markdown",
   "metadata": {},
   "source": [
    "![Commits $\\approx$ a stack of heads](fig/git_staging.pdf)\n",
    "\n",
    "(Image from Software Carpentry)"
   ]
  },
  {
   "cell_type": "markdown",
   "metadata": {
    "slideshow": {
     "slide_type": "slide"
    }
   },
   "source": [
    "## What if you really screw up?"
   ]
  },
  {
   "cell_type": "markdown",
   "metadata": {},
   "source": [
    "__A git choose your own adventure__\n",
    "\n",
    "http://sethrobertson.github.io/GitFixUm/fixup.html"
   ]
  },
  {
   "cell_type": "markdown",
   "metadata": {
    "slideshow": {
     "slide_type": "slide"
    }
   },
   "source": [
    "## Mirroring your repository on the internet"
   ]
  },
  {
   "cell_type": "markdown",
   "metadata": {},
   "source": [
    "__Setting up a \"remote\"__\n",
    "\n",
    "1. Create repository on Githubwith no .gitignore, no README, and no license\n",
    "\n",
    "2. Add that as a remote\n",
    "\n",
    "\n",
    "```\n",
    "git remote add origin https://www.github.com/user/test.git\n",
    "```\n",
    "\n",
    "__How to check:__ \n",
    "\n",
    "```\n",
    "git remote -v\n",
    "```"
   ]
  },
  {
   "cell_type": "markdown",
   "metadata": {
    "slideshow": {
     "slide_type": "slide"
    }
   },
   "source": [
    "## Once your repository has been linked to remote"
   ]
  },
  {
   "cell_type": "markdown",
   "metadata": {},
   "source": [
    "Push your changes\n",
    "\n",
    "```\n",
    "git push -u origin master\n",
    "```\n",
    "\n",
    "Check the remote (Github or  Bitbucket) to see new changes"
   ]
  },
  {
   "cell_type": "markdown",
   "metadata": {
    "slideshow": {
     "slide_type": "slide"
    }
   },
   "source": [
    "## Overview"
   ]
  },
  {
   "cell_type": "markdown",
   "metadata": {},
   "source": [
    "![](fig/git.png)  \n",
    "\n",
    "(Image from Software Carpentry)"
   ]
  },
  {
   "cell_type": "markdown",
   "metadata": {
    "slideshow": {
     "slide_type": "slide"
    }
   },
   "source": [
    "## RStudio's interface"
   ]
  },
  {
   "cell_type": "markdown",
   "metadata": {},
   "source": [
    "Start a new project\n",
    "\n",
    "Check it out from your remote git repository using ssh or html\n",
    "\n",
    "(ssh is better, html may require additional config w/ RStudio)"
   ]
  },
  {
   "cell_type": "markdown",
   "metadata": {
    "slideshow": {
     "slide_type": "slide"
    }
   },
   "source": [
    "## Demo of adding, committing, pushing"
   ]
  },
  {
   "cell_type": "markdown",
   "metadata": {
    "slideshow": {
     "slide_type": "slide"
    }
   },
   "source": [
    "## Github vs. GitLab vs. Bitbucket"
   ]
  },
  {
   "cell_type": "markdown",
   "metadata": {
    "slideshow": {
     "slide_type": "-"
    }
   },
   "source": [
    "Private repos:\n",
    "\n",
    "- free on Bitbucket (w/ < 6 collaborators)\n",
    "- free on GitLab (unlimited collaborators)\n",
    "- not free on Github"
   ]
  },
  {
   "cell_type": "markdown",
   "metadata": {
    "slideshow": {
     "slide_type": "slide"
    }
   },
   "source": [
    "## Github vs. GitLab vs. Bitbucket"
   ]
  },
  {
   "cell_type": "markdown",
   "metadata": {},
   "source": [
    "- all very similar\n",
    "- Popularity & user base (4 vs. ?? vs. 1 million)\n",
    "- free vs. pay\n",
    "- open source vs. closed source\n",
    "\n",
    "**You can use all three if you want!**"
   ]
  },
  {
   "cell_type": "markdown",
   "metadata": {
    "slideshow": {
     "slide_type": "slide"
    }
   },
   "source": [
    "## Continuing education & additional resources"
   ]
  },
  {
   "cell_type": "code",
   "execution_count": null,
   "metadata": {},
   "outputs": [],
   "source": [
    "**Motivation**\n",
    "\n",
    "- [Ram K. 2013. Git can facilitate greater reproducibility and increased transparency in science.](https://scfbm.biomedcentral.com/articles/10.1186/1751-0473-8-7)\n",
    "\n",
    "**Instruction**\n",
    "\n",
    "- [Pro Git](https://progit.org/)\n",
    "- [Software carpentry](http://swcarpentry.github.io/git-novice/)\n",
    "- [Git for scientists](http://nyuccl.org/pages/gittutorial/)\n",
    "\n",
    "**Alternative interfaces**\n",
    "\n",
    "- [GUIs for the command line averse](https://git-scm.com/book/en/v2/Git-in-Other-Environments-Graphical-Interfaces)\n",
    "\n",
    "![](https://assets-cdn.github.com/images/modules/logos_page/Octocat.png)"
   ]
  },
  {
   "cell_type": "markdown",
   "metadata": {
    "slideshow": {
     "slide_type": "slide"
    }
   },
   "source": [
    "## Graveyard"
   ]
  },
  {
   "cell_type": "markdown",
   "metadata": {},
   "source": [
    "Plan:\n",
    "    \n",
    "    \n",
    "- what is git\n",
    "- what is github\n",
    "\n",
    "- what I'm going to say\n",
    "- = ...a specific take / strategy on how you can use git and github as a scientist\n",
    "- and some practical things\n",
    "\n",
    "\n",
    "- git is a distributed version control system\n",
    "\n",
    "- software developers use it\n",
    "- this is done in science often\n",
    "- ...and you want to be able to do it\n",
    "- however, you probably won't be doing it all the time\n",
    "- so in a way you will use github as a cloud storage tool\n",
    "- this is a bit of an abuse, strictly speaking\n",
    "- then at the end you have a github repo to complement your paper\n",
    "\n",
    "\n",
    "\n",
    "\n",
    "practically: \n",
    "\n",
    "\n",
    "git stuff\n",
    "\n",
    "- git clone  [ git@ / https://  ]  \n",
    "- git add, git commit \n",
    "- git push \n",
    "- git remote add upstream \n",
    "- git fetch upstream\n",
    "- git merge upstream/master\n",
    "- git config email etc.\n",
    "- in windows: git terminal doubles up as a linux terminal; and/or can use git in anaconda\n",
    "\n",
    "\n",
    "\n",
    "\n",
    "git annex --> datalad\n",
    "\n",
    "\n",
    "\n",
    "github stuff: \n",
    "\n",
    "- ssh keys\n",
    "- private / public repos - university e-mail accounts for unlimited private repos\n",
    "- issues\n",
    "- markdown, jupyter\n",
    "- editor in browser\n",
    "- lots of third-party apps; e.g. trello\n",
    "- binder\n",
    "- datalad\n",
    "- pull requests\n",
    "\n",
    "\n",
    "\n",
    "\n"
   ]
  },
  {
   "cell_type": "code",
   "execution_count": null,
   "metadata": {},
   "outputs": [],
   "source": []
  }
 ],
 "metadata": {
  "celltoolbar": "Slideshow",
  "kernelspec": {
   "display_name": "Python 3",
   "language": "python",
   "name": "python3"
  },
  "language_info": {
   "codemirror_mode": {
    "name": "ipython",
    "version": 3
   },
   "file_extension": ".py",
   "mimetype": "text/x-python",
   "name": "python",
   "nbconvert_exporter": "python",
   "pygments_lexer": "ipython3",
   "version": "3.6.8"
  },
  "rise": {
   "autolaunch": true,
   "enable_chalkboard": true
  }
 },
 "nbformat": 4,
 "nbformat_minor": 2
}
