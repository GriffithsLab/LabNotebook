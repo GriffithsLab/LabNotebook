{
 "cells": [
  {
   "cell_type": "markdown",
   "metadata": {
    "cell_tags": {
     "html": true
    }
   },
   "source": [
    "# About the Notebook"
   ]
  },
  {
   "cell_type": "markdown",
   "metadata": {
    "cell_tags": {
     "html": true,
     "pdf": true,
     "slides": true
    }
   },
   "source": [
    "## Welcome"
   ]
  },
  {
   "cell_type": "markdown",
   "metadata": {
    "cell_tags": {
     "html": true,
     "pdf": true,
     "slides": true
    }
   },
   "source": [
    "...to my open, digital lab notebook. \n",
    "\n",
    "I have been inspired to adopt this new format for scientific record-keeping primarily by Carl Boettiger's [impressive efforts](http://www.carlboettiger.info/lab-notebook.html). The benefits of [Open Notebook Science](http://en.wikipedia.org/wiki/Open_notebook_science) for individual researchers, collaboration networks, and to the scientific community in general are, I think, pretty compelling. Most of my daily work as a computational research scientist involves small-scale problem solving, which in my case is centred around coding for computer simulations and statistical data analysis. Occasionally, (I like to think) I have interesting ideas also. In general, the best thing that could possibly happen to the fruits of this labour is for other people to see them and find them useful. This isn't some kind of wishful head-in-the-clouds altruism: maximizing the transparency of my work to my close collaborators, and to a lesser extent to other peers, reviewers, and to myself in the future, has clear practical benefits, and I stand to be the primary beneficiary. However I would be lying if I said that this is a completely ideology-free exercise. "
   ]
  },
  {
   "cell_type": "markdown",
   "metadata": {
    "cell_tags": {
     "html": true,
     "pdf": true,
     "slides": true
    }
   },
   "source": [
    "## Boettiger's Disclaimer"
   ]
  },
  {
   "cell_type": "markdown",
   "metadata": {
    "cell_tags": {
     "html": true,
     "pdf": true,
     "slides": true
    }
   },
   "source": [
    "In the introductory description of his own pioneering Lab Notebook, Carl Boettiger is careful to emphasize the following:"
   ]
  },
  {
   "cell_type": "markdown",
   "metadata": {
    "cell_tags": {
     "html": true,
     "pdf": true,
     "slides": true
    }
   },
   "source": [
    "> ***\"Disclaimer: this is not a blog.***  \n",
    "> *...This is the active, permanent record of my scientific research, standing in place of the traditional paper bound lab notebook. The notebook is primarily a tool for me to do science, not communicate it. I write my entries with the hope that they are intelligible to my future self; and maybe my collaborators and experts in my field. Only the occasional entry will be written for a more general audience. […] In these pages you will find not only thoughts and ideas, but references to the literature I read, the codes or manuscripts I write, derivations I scribble and graphs I create and mistakes I make.\"*\n",
    "\n",
    "...all of which applies in equal measure to the following pages. "
   ]
  },
  {
   "cell_type": "markdown",
   "metadata": {
    "cell_tags": {
     "html": true,
     "pdf": true,
     "slides": true
    }
   },
   "source": [
    "## Well, not *completely* open..."
   ]
  },
  {
   "cell_type": "markdown",
   "metadata": {
    "cell_tags": {
     "html": true,
     "pdf": true,
     "slides": true
    }
   },
   "source": [
    "Clearly one of the trickiest parts of maintaining an on online digital notebook is choosing what not to make publicly available immediately  <a href=\"#fn:availableimmediately\" rel=\"footnote\">[1]</a>, so that any novel ideas and/or discoveries don't get 'scooped'. In my fields of computational and cognitive neuroscience, where the heat isn't turned up quite as high as in more commercialization-driven fields such as genetics or quantum computing, such concerns seem to me a little OTT. They are nevertheless perfectly valid concerns, particularly for close collaborators - and to my mind these are precisely the people who stand to benefit most from the OpenNotebook approach. "
   ]
  },
  {
   "cell_type": "markdown",
   "metadata": {
    "cell_tags": {
     "html": true,
     "pdf": true,
     "slides": true
    }
   },
   "source": [
    "Fortunately, I have found a handy solution to this problem in the [pelican encrypt-content plugin](https://github.com/mindcruzer/pelican-encrypt-content). This little gem adds password-protection on a per-entry basis using [AES](http://en.wikipedia.org/wiki/Advanced_Encryption_Standard) 256-bit encryption, which is decoded at the browser level with the *Crypto-JS* javascript library. From a security point of view, the end-result is entirely analogous to a password-protected dropbox folder, or indeed sending attachments via e-mail <a href=\"#fn:security\" rel=\"footnote\">[2]</a>, both of which are commonplace media for collarborative work. "
   ]
  },
  {
   "cell_type": "markdown",
   "metadata": {
    "cell_tags": {
     "html": true,
     "pdf": true,
     "slides": true
    }
   },
   "source": [
    "At a practical level, this probably means that most people will find that they are unable to view some non-negligible proportion of the posts on this site. If you are frustrated by this, I apologize. My personal feeling is that it's a reasonable compromise. "
   ]
  },
  {
   "cell_type": "markdown",
   "metadata": {
    "cell_tags": {
     "html": true
    }
   },
   "source": [
    "## Tell me more!"
   ]
  },
  {
   "cell_type": "markdown",
   "metadata": {
    "cell_tags": {
     "html": true
    }
   },
   "source": [
    "I will add a more thorough and technical post soon on how the digital notebook is set up and managed. Please also feel free contact me or leave comments if you have some constructive feedback. This is still in experimental stages and will likely evolve considerably over the months and years. \n",
    "\n",
    "Happy browsing :)\n"
   ]
  },
  {
   "cell_type": "markdown",
   "metadata": {
    "cell_tags": {
     "html": true,
     "pdf": true,
     "slides": true
    }
   },
   "source": [
    "----"
   ]
  },
  {
   "cell_type": "markdown",
   "metadata": {
    "cell_tags": {
     "html": true
    }
   },
   "source": [
    "<script type=\"text/javascript\" src=\"http://themodernscientist.com/static/js/jquery-2.1.3.min.js\"></script>\n",
    "<script type=\"text/javascript\" src=\"http://themodernscientist.com/static/js/bigfoot.js\"></script>\n",
    "<script type=\"text/javascript\">\n",
    "    var bigfoot = $.bigfoot(\n",
    "        {\n",
    "            activateOnHover: true,\n",
    "            deleteOnUnhover: true,\n",
    "            preventPageScroll: false,\n",
    "            hoverDelay: 500\n",
    "        }\n",
    "    );\n",
    "</script>\n",
    "\n",
    "\n",
    "<link href=\"http://themodernscientist.com/static/css/bigfoot-number.css\" rel=\"stylesheet\" type=\"text/css\">\n",
    "\n"
   ]
  },
  {
   "cell_type": "markdown",
   "metadata": {
    "cell_tags": {
     "html": true,
     "pdf": true
    }
   },
   "source": [
    "<li id=\"fn:availableimmediately\">[1] obviously, eventually (probably after acceptance or submission for publication), everything should be expected to be made publicly available. This is Open Science, after all.  </li>\n",
    "\n",
    "<li id=\"fn:security\">[2] In fact, browser-level decryption is almost certainly more secure than these and most other ways of storing information in, or pushing it through, the cloud. The password-protected LabNotebook pages are only decrypted when you read them; until that point the information in them is, for all intents and purposes, gobbledeygook. </li>\n"
   ]
  }
 ],
 "metadata": {
  "celltoolbar": "ipynb-workdocs-0.2 tags",
  "css": [
   ""
  ],
  "grifflab_labnotebook": {
   "post_title": "About The Notebook"
  },
  "kernelspec": {
   "display_name": "Python 3",
   "language": "python",
   "name": "python3"
  },
  "language_info": {
   "codemirror_mode": {
    "name": "ipython",
    "version": 3
   },
   "file_extension": ".py",
   "mimetype": "text/x-python",
   "name": "python",
   "nbconvert_exporter": "python",
   "pygments_lexer": "ipython3",
   "version": "3.7.3"
  }
 },
 "nbformat": 4,
 "nbformat_minor": 1
}
